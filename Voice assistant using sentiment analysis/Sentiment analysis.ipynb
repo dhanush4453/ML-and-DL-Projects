{
 "cells": [
  {
   "cell_type": "code",
   "execution_count": 1,
   "id": "40f30577",
   "metadata": {},
   "outputs": [],
   "source": [
    "# Text Blob Model\n",
    "\n",
    "import tensorflow as tf\n",
    "from tensorflow import keras \n",
    "import numpy as np \n",
    "from sklearn.model_selection import train_test_split \n",
    "import pandas as pd"
   ]
  },
  {
   "cell_type": "code",
   "execution_count": 2,
   "id": "3a47a020",
   "metadata": {},
   "outputs": [],
   "source": [
    "data = pd.read_csv(\"amazon_reviews.csv\")"
   ]
  },
  {
   "cell_type": "code",
   "execution_count": 3,
   "id": "46260f1b",
   "metadata": {},
   "outputs": [
    {
     "data": {
      "text/plain": [
       "'Well I was almost going for less space memory for my Sony Xperia ZL, but wow 32 GB of memory is a must these days I love my choice and this product works very good! Excellent.'"
      ]
     },
     "execution_count": 3,
     "metadata": {},
     "output_type": "execute_result"
    }
   ],
   "source": [
    "import random\n",
    "from random import randint\n",
    "x = data[\"reviewText\"]\n",
    "rn = randint(0,4914)\n",
    "result = x[rn]\n",
    "result"
   ]
  },
  {
   "cell_type": "code",
   "execution_count": 6,
   "id": "c2d44ca7",
   "metadata": {},
   "outputs": [
    {
     "name": "stdout",
     "output_type": "stream",
     "text": [
      "positive\n",
      "Thank you for the review. I hope you enjoy your product.\n"
     ]
    }
   ],
   "source": [
    "from textblob import TextBlob\n",
    "\n",
    "blob = TextBlob(result)\n",
    "sp = blob.sentiment.polarity\n",
    "if sp > 0:\n",
    "    sentiment = \"positive\"\n",
    "elif sp < 0:\n",
    "    sentiment = \"Negative\"\n",
    "else:\n",
    "    sentiment = \"Neutral\"\n",
    "    \n",
    "print(sentiment)\n",
    "\n",
    "if sentiment == \"positive\":\n",
    "    print(\"Thank you for the review. I hope you enjoy your product.\")\n",
    "elif sentiment == \"Negative\":\n",
    "    print(\"We apologize for the inconvinience you have faced by the product we have delivered and following are the options you can follow \\n1. Return the Product\\n 2. Exchange the Product\")\n",
    "else:\n",
    "    print(\"Thank you for the review. We will definietly look at the inappropriates and try\\n to minimize the problems.\")"
   ]
  },
  {
   "cell_type": "code",
   "execution_count": 7,
   "id": "530b1b25",
   "metadata": {},
   "outputs": [],
   "source": [
    "# Decision Tree Model\n",
    "\n",
    "import pandas as pd\n",
    "import numpy as np\n",
    "from sklearn.model_selection import train_test_split\n",
    "from sklearn.feature_extraction.text import TfidfVectorizer\n",
    "from sklearn.preprocessing import LabelEncoder\n",
    "from sklearn.ensemble import RandomForestClassifier"
   ]
  },
  {
   "cell_type": "code",
   "execution_count": 8,
   "id": "b2a67850",
   "metadata": {},
   "outputs": [],
   "source": [
    "data = pd.read_csv('twitter.csv')\n",
    "data = data.dropna()\n",
    "texts = data['Text']\n",
    "labels = data['Sentiment']"
   ]
  },
  {
   "cell_type": "code",
   "execution_count": 9,
   "id": "0e888777",
   "metadata": {},
   "outputs": [],
   "source": [
    "tfidf_vectorizer = TfidfVectorizer(max_features=10000)\n",
    "X_tfidf = tfidf_vectorizer.fit_transform(texts)\n",
    "label_encoder = LabelEncoder()\n",
    "y_encoded = label_encoder.fit_transform(labels)"
   ]
  },
  {
   "cell_type": "code",
   "execution_count": null,
   "id": "39d52818",
   "metadata": {},
   "outputs": [],
   "source": [
    "X_train, X_test, y_train, y_test = train_test_split(X_tfidf, y_encoded, test_size=0.2, random_state=42)\n",
    "model = RandomForestClassifier(n_estimators=100, random_state=42)\n",
    "model.fit(X_train, y_train)"
   ]
  },
  {
   "cell_type": "code",
   "execution_count": 11,
   "id": "2bfcff66",
   "metadata": {},
   "outputs": [
    {
     "name": "stdout",
     "output_type": "stream",
     "text": [
      "Accuracy: 0.9106696398405297\n",
      "['Negative', 'Negative']\n"
     ]
    }
   ],
   "source": [
    "accuracy = model.score(X_test, y_test)\n",
    "print(f'Accuracy: {accuracy}')\n",
    "new_texts = [\"i m not happy with the product\", \"not good not bad\"]\n",
    "new_texts_tfidf = tfidf_vectorizer.transform(new_texts)\n",
    "predictions = model.predict(new_texts_tfidf)\n",
    "predicted_labels = [label_encoder.classes_[pred] for pred in predictions]\n",
    "print(predicted_labels)"
   ]
  },
  {
   "cell_type": "code",
   "execution_count": 12,
   "id": "aca38b05",
   "metadata": {},
   "outputs": [],
   "source": [
    "# ANN Model\n",
    "\n",
    "import pandas as pd\n",
    "import numpy as np\n",
    "from sklearn.model_selection import train_test_split\n",
    "from sklearn.feature_extraction.text import TfidfVectorizer\n",
    "from sklearn.preprocessing import LabelEncoder\n",
    "import tensorflow as tf"
   ]
  },
  {
   "cell_type": "code",
   "execution_count": 13,
   "id": "b49665fc",
   "metadata": {},
   "outputs": [],
   "source": [
    "data = pd.read_csv('twitter.csv')\n",
    "data = data.dropna()\n",
    "texts = data['Text']\n",
    "labels = data['Sentiment'] "
   ]
  },
  {
   "cell_type": "code",
   "execution_count": 14,
   "id": "284653db",
   "metadata": {},
   "outputs": [],
   "source": [
    "tfidf_vectorizer = TfidfVectorizer(max_features=10000)\n",
    "X_tfidf = tfidf_vectorizer.fit_transform(texts)\n",
    "label_encoder = LabelEncoder()\n",
    "y_encoded = label_encoder.fit_transform(labels)"
   ]
  },
  {
   "cell_type": "code",
   "execution_count": 15,
   "id": "c848f892",
   "metadata": {},
   "outputs": [],
   "source": [
    "X_train, X_test, y_train, y_test = train_test_split(X_tfidf, y_encoded, test_size=0.2, random_state=42)"
   ]
  },
  {
   "cell_type": "code",
   "execution_count": 17,
   "id": "b81df8ae",
   "metadata": {},
   "outputs": [
    {
     "name": "stdout",
     "output_type": "stream",
     "text": [
      "Epoch 1/20\n",
      "911/911 [==============================] - 6s 6ms/step - loss: -28.9883 - accuracy: 0.3021\n",
      "Epoch 2/20\n",
      "911/911 [==============================] - 5s 6ms/step - loss: -199.2202 - accuracy: 0.3023\n",
      "Epoch 3/20\n",
      "911/911 [==============================] - 5s 6ms/step - loss: -506.8038 - accuracy: 0.3023\n",
      "Epoch 4/20\n",
      "911/911 [==============================] - 5s 6ms/step - loss: -923.4788 - accuracy: 0.3026\n",
      "Epoch 5/20\n",
      "911/911 [==============================] - 6s 6ms/step - loss: -1435.8778 - accuracy: 0.3029\n",
      "Epoch 6/20\n",
      "911/911 [==============================] - 6s 6ms/step - loss: -2035.7001 - accuracy: 0.3031\n",
      "Epoch 7/20\n",
      "911/911 [==============================] - 6s 6ms/step - loss: -2717.1584 - accuracy: 0.3032\n",
      "Epoch 8/20\n",
      "911/911 [==============================] - 5s 6ms/step - loss: -3479.9993 - accuracy: 0.3033\n",
      "Epoch 9/20\n",
      "911/911 [==============================] - 5s 6ms/step - loss: -4323.9233 - accuracy: 0.3033\n",
      "Epoch 10/20\n",
      "911/911 [==============================] - 5s 6ms/step - loss: -5246.9453 - accuracy: 0.3034\n",
      "Epoch 11/20\n",
      "911/911 [==============================] - 5s 6ms/step - loss: -6247.8022 - accuracy: 0.3034\n",
      "Epoch 12/20\n",
      "911/911 [==============================] - 5s 6ms/step - loss: -7328.0576 - accuracy: 0.3035\n",
      "Epoch 13/20\n",
      "911/911 [==============================] - 5s 6ms/step - loss: -8484.8613 - accuracy: 0.3035\n",
      "Epoch 14/20\n",
      "911/911 [==============================] - 5s 6ms/step - loss: -9718.1641 - accuracy: 0.3035\n",
      "Epoch 15/20\n",
      "911/911 [==============================] - 5s 6ms/step - loss: -11027.7344 - accuracy: 0.3036\n",
      "Epoch 16/20\n",
      "911/911 [==============================] - 5s 6ms/step - loss: -12415.2900 - accuracy: 0.3037\n",
      "Epoch 17/20\n",
      "911/911 [==============================] - 5s 6ms/step - loss: -13879.4941 - accuracy: 0.3036\n",
      "Epoch 18/20\n",
      "911/911 [==============================] - 6s 6ms/step - loss: -15419.8584 - accuracy: 0.3037\n",
      "Epoch 19/20\n",
      "911/911 [==============================] - 6s 6ms/step - loss: -17035.9375 - accuracy: 0.3036\n",
      "Epoch 20/20\n",
      "911/911 [==============================] - 6s 6ms/step - loss: -18730.5332 - accuracy: 0.3036\n"
     ]
    },
    {
     "data": {
      "text/plain": [
       "<keras.src.callbacks.History at 0x1d1691083a0>"
      ]
     },
     "execution_count": 17,
     "metadata": {},
     "output_type": "execute_result"
    }
   ],
   "source": [
    "model = tf.keras.Sequential([\n",
    "    tf.keras.layers.Dense(64, activation='relu', input_shape=(X_train.shape[1],)),\n",
    "    tf.keras.layers.Dense(1, activation='sigmoid')\n",
    "])\n",
    "\n",
    "model.compile(optimizer='adam',\n",
    "              loss='binary_crossentropy',\n",
    "              metrics=['accuracy'])\n",
    "\n",
    "model.fit(X_train.toarray(), y_train, epochs=20, batch_size=65)"
   ]
  },
  {
   "cell_type": "code",
   "execution_count": 19,
   "id": "7e8951b0",
   "metadata": {},
   "outputs": [
    {
     "name": "stdout",
     "output_type": "stream",
     "text": [
      "463/463 [==============================] - 1s 1ms/step - loss: -4255.3555 - accuracy: 0.3016\n",
      "Loss: -4255.35546875, Accuracy: 0.3015744388103485\n",
      "1/1 [==============================] - 0s 85ms/step\n",
      "['Negative', 'Negative']\n"
     ]
    }
   ],
   "source": [
    "loss, accuracy = model.evaluate(X_test.toarray(), y_test) \n",
    "print(f'Loss: {loss}, Accuracy: {accuracy}')\n",
    "\n",
    "new_texts = [\"This is a fantastic product\", \"I'm not happy with the service\"]\n",
    "new_texts_tfidf = tfidf_vectorizer.transform(new_texts)\n",
    "predictions = model.predict(new_texts_tfidf.toarray())\n",
    "predicted_labels = [label_encoder.classes_[int(round(pred[0]))] for pred in predictions]\n",
    "print(predicted_labels)"
   ]
  }
 ],
 "metadata": {
  "kernelspec": {
   "display_name": "Python 3 (ipykernel)",
   "language": "python",
   "name": "python3"
  },
  "language_info": {
   "codemirror_mode": {
    "name": "ipython",
    "version": 3
   },
   "file_extension": ".py",
   "mimetype": "text/x-python",
   "name": "python",
   "nbconvert_exporter": "python",
   "pygments_lexer": "ipython3",
   "version": "3.11.7"
  }
 },
 "nbformat": 4,
 "nbformat_minor": 5
}
